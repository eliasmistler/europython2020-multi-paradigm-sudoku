{
 "cells": [
  {
   "cell_type": "markdown",
   "metadata": {
    "slideshow": {
     "slide_type": "slide"
    }
   },
   "source": [
    "# Your code doesn't need comments, it needs refactoring!"
   ]
  },
  {
   "cell_type": "markdown",
   "metadata": {
    "slideshow": {
     "slide_type": "slide"
    }
   },
   "source": [
    "## Load invoices"
   ]
  },
  {
   "cell_type": "code",
   "execution_count": null,
   "metadata": {},
   "outputs": [],
   "source": [
    "import pandas as pd\n",
    "\n",
    "invoices = pd.read_csv('~/Desktop/gen/historic/invoices.csv')"
   ]
  },
  {
   "cell_type": "code",
   "execution_count": null,
   "metadata": {},
   "outputs": [],
   "source": [
    "required_columns = {\n",
    "    'id':                'string',\n",
    "    'buyer_supplier_id': 'string',\n",
    "    'gross_amount':      'float64',\n",
    "    'issue_date':        'datetime64[ns]',\n",
    "}"
   ]
  },
  {
   "cell_type": "code",
   "execution_count": null,
   "metadata": {},
   "outputs": [],
   "source": [
    "invoices = invoices[required_columns]"
   ]
  },
  {
   "cell_type": "code",
   "execution_count": null,
   "metadata": {},
   "outputs": [],
   "source": [
    "invoices = invoices.astype(required_columns)"
   ]
  },
  {
   "cell_type": "code",
   "execution_count": null,
   "metadata": {},
   "outputs": [],
   "source": [
    "invoices.head()"
   ]
  },
  {
   "cell_type": "markdown",
   "metadata": {
    "slideshow": {
     "slide_type": "slide"
    }
   },
   "source": [
    "## Calculate monthly maximum per supplier"
   ]
  },
  {
   "cell_type": "code",
   "execution_count": null,
   "metadata": {},
   "outputs": [],
   "source": [
    "max_monthly = invoices\n",
    "max_monthly.set_index('issue_date', inplace=True)  \n",
    "max_monthly.head()"
   ]
  },
  {
   "cell_type": "code",
   "execution_count": null,
   "metadata": {},
   "outputs": [],
   "source": [
    "max_monthly = max_monthly.groupby('buyer_supplier_id').resample('M')['gross_amount'].sum()\n",
    "max_monthly.head()"
   ]
  },
  {
   "cell_type": "code",
   "execution_count": null,
   "metadata": {},
   "outputs": [],
   "source": [
    "max_monthly = max_monthly.groupby('buyer_supplier_id').max()\n",
    "max_monthly.head()"
   ]
  },
  {
   "cell_type": "code",
   "execution_count": null,
   "metadata": {},
   "outputs": [],
   "source": [
    "max_monthly = pd.DataFrame(max_monthly)\n",
    "max_monthly.rename(columns={'gross_amount': 'max_monthly'}, inplace=True)\n",
    "max_monthly.head()"
   ]
  },
  {
   "cell_type": "markdown",
   "metadata": {
    "slideshow": {
     "slide_type": "slide"
    }
   },
   "source": [
    "## Combine invoices and monthly maxima"
   ]
  },
  {
   "cell_type": "code",
   "execution_count": null,
   "metadata": {},
   "outputs": [],
   "source": [
    "combined = invoices.merge(max_monthly, left_on='buyer_supplier_id', right_index=True)\n",
    "combined.sample(5)"
   ]
  },
  {
   "cell_type": "code",
   "execution_count": null,
   "metadata": {},
   "outputs": [],
   "source": [
    "combined['relative_size'] = combined['gross_amount'] / combined['max_monthly']\n",
    "combined.sample(5)"
   ]
  },
  {
   "cell_type": "markdown",
   "metadata": {
    "slideshow": {
     "slide_type": "slide"
    }
   },
   "source": [
    "## What went wrong?\n",
    "\n",
    "**Why is the index `issue_date`??**\n",
    "\n",
    "The culprit:\n",
    "\n",
    "```python\n",
    "max_monthly = invoices\n",
    "max_monthly.set_index('issue_date', inplace=True)    \n",
    "```"
   ]
  },
  {
   "cell_type": "markdown",
   "metadata": {
    "slideshow": {
     "slide_type": "slide"
    }
   },
   "source": [
    "# Enter the Zen of Python!\n",
    "\n",
    "* Mutability can be suprising\n",
    "* Surprises are bad\n",
    "* Implementation comments are failures"
   ]
  },
  {
   "cell_type": "markdown",
   "metadata": {
    "slideshow": {
     "slide_type": "slide"
    }
   },
   "source": [
    "# Refactor!\n",
    "* Don't use `inplace` or direct assignments\n",
    "* Encapsulate logic in small, pure functions\n",
    "* Name your functions precisely"
   ]
  },
  {
   "cell_type": "code",
   "execution_count": null,
   "metadata": {
    "slideshow": {
     "slide_type": "slide"
    }
   },
   "outputs": [],
   "source": [
    "def load_invoices():\n",
    "    return (pd.read_csv('~/Desktop/gen/historic/invoices.csv')\n",
    "            .get(required_columns)\n",
    "            .astype(required_columns))"
   ]
  },
  {
   "cell_type": "code",
   "execution_count": null,
   "metadata": {
    "slideshow": {
     "slide_type": "slide"
    }
   },
   "outputs": [],
   "source": [
    "def aggregate_monthly_by_supplier(df):\n",
    "    return (pd.DataFrame(df\n",
    "                         .set_index('issue_date')\n",
    "                         .groupby('buyer_supplier_id').resample('M')['gross_amount'].sum()\n",
    "                         .groupby('buyer_supplier_id').max())\n",
    "            .rename(columns={'gross_amount': 'max_monthly'}))\n"
   ]
  },
  {
   "cell_type": "code",
   "execution_count": null,
   "metadata": {
    "slideshow": {
     "slide_type": "slide"
    }
   },
   "outputs": [],
   "source": [
    "def combine_invoices_and_aggregates(invoices, aggregates):\n",
    "    def calc_relative_size(df):\n",
    "        return df['gross_amount'] / df['max_monthly']\n",
    "        \n",
    "    \n",
    "    return (invoices.merge(aggregates, \n",
    "                           left_on='buyer_supplier_id', \n",
    "                           right_index=True)\n",
    "            .assign(relative_size=calc_relative_size)\n",
    "            .set_index('id'))"
   ]
  },
  {
   "cell_type": "code",
   "execution_count": null,
   "metadata": {
    "slideshow": {
     "slide_type": "slide"
    }
   },
   "outputs": [],
   "source": [
    "invoices = load_invoices()\n",
    "\n",
    "combine_invoices_and_aggregates(\n",
    "    invoices,\n",
    "    aggregate_monthly_by_supplier(invoices)\n",
    ")"
   ]
  },
  {
   "cell_type": "markdown",
   "metadata": {
    "slideshow": {
     "slide_type": "slide"
    }
   },
   "source": [
    "# Good code is self-documenting!"
   ]
  }
 ],
 "metadata": {
  "kernelspec": {
   "display_name": "Python 3",
   "language": "python",
   "name": "python3"
  },
  "language_info": {
   "codemirror_mode": {
    "name": "ipython",
    "version": 3
   },
   "file_extension": ".py",
   "mimetype": "text/x-python",
   "name": "python",
   "nbconvert_exporter": "python",
   "pygments_lexer": "ipython3",
   "version": "3.7.4"
  }
 },
 "nbformat": 4,
 "nbformat_minor": 4
}
