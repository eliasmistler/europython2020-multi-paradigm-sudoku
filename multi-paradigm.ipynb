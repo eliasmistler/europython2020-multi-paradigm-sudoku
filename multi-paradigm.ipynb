{
 "cells": [
  {
   "cell_type": "code",
   "execution_count": null,
   "metadata": {
    "slideshow": {
     "slide_type": "skip"
    }
   },
   "outputs": [],
   "source": [
    "import logging\n",
    "import random\n",
    "from itertools import chain, product, starmap\n",
    "from abc import ABC, abstractmethod\n",
    "from dataclasses import dataclass\n",
    "from typing import Dict, List, Callable\n",
    "from xml.etree import ElementTree\n",
    "\n",
    "import numpy as np\n",
    "import requests\n",
    "import xmltodict\n",
    "from toolz import *\n",
    "import math\n",
    "\n",
    "from collections import Counter\n",
    "\n",
    "%load_ext autoreload\n",
    "%autoreload 2"
   ]
  },
  {
   "cell_type": "markdown",
   "metadata": {
    "slideshow": {
     "slide_type": "slide"
    }
   },
   "source": [
    "**Multi-paradigm programming in Python**\n",
    "\n",
    "Elias Mistler | Machine Learning Engineer\n",
    "\n",
    "[Previse](https://previ.se/)"
   ]
  },
  {
   "cell_type": "markdown",
   "metadata": {
    "slideshow": {
     "slide_type": "notes"
    }
   },
   "source": [
    "https://github.com/eliasmistler/europython2020-multi-paradigm-sudoku"
   ]
  },
  {
   "cell_type": "markdown",
   "metadata": {
    "slideshow": {
     "slide_type": "slide"
    }
   },
   "source": [
    "**Quick Intro**\n",
    "* Elias Mistler\n",
    "* Previse\n",
    "    * Invoice financing\n",
    "    * based on ML\n",
    "    * corporate data\n",
    "    * improve SME cashflow\n",
    "* Machine Learning Engineer\n",
    "    * ML integration into invoice processing platform\n",
    "    * Buyer data intake and mapping\n",
    "    * Operational tooling"
   ]
  },
  {
   "cell_type": "markdown",
   "metadata": {
    "slideshow": {
     "slide_type": "slide"
    }
   },
   "source": [
    "# Contents\n",
    "\n",
    "* Introduction\n",
    "* Code Structure\n",
    "* Data Structures\n",
    "* State Handling\n",
    "* Multiple implementations\n",
    "* Summary"
   ]
  },
  {
   "cell_type": "markdown",
   "metadata": {
    "slideshow": {
     "slide_type": "slide"
    }
   },
   "source": [
    "# Introduction\n",
    "* Python = multi-paradigm (unlike OO Java / FP Clojure)\n",
    "* OOP and FP are **concepts**, not tied to syntax (`class` or `def`)"
   ]
  },
  {
   "cell_type": "markdown",
   "metadata": {
    "slideshow": {
     "slide_type": "slide"
    }
   },
   "source": [
    "## Object-oriented principles\n",
    "* mutable data structures\n",
    "* (relies on rich type system)\n",
    "* class hierarchies\n",
    "    * inheritance\n",
    "    * abstraction\n",
    "    * encapsulation\n",
    "    * polymorphism"
   ]
  },
  {
   "cell_type": "markdown",
   "metadata": {
    "slideshow": {
     "slide_type": "slide"
    }
   },
   "source": [
    "## Functional programming Principles\n",
    "\n",
    "* immutable data structures\n",
    "* (relies on simple data types)\n",
    "* pure functions\n",
    "    * no side-effects\n",
    "    * idempotent\n",
    "* (often lazy evaluation)"
   ]
  },
  {
   "cell_type": "markdown",
   "metadata": {
    "slideshow": {
     "slide_type": "slide"
    }
   },
   "source": [
    "## Sudoku\n",
    "<img src=\"./img/sudoku.png\" style=\"width: 400px; float: left\"/>\n",
    "\n",
    "* 9 x 9 grid\n",
    "* numbers from 1 - 9\n",
    "* each row/column/block should contain each digit"
   ]
  },
  {
   "cell_type": "markdown",
   "metadata": {
    "slideshow": {
     "slide_type": "slide"
    }
   },
   "source": [
    "# Code structure: high- vs. low-context\n",
    "Example: parse raw Sudoku string (from [OpenSudoku](https://opensudoku.moire.org/)) to array"
   ]
  },
  {
   "cell_type": "code",
   "execution_count": null,
   "metadata": {
    "slideshow": {
     "slide_type": "fragment"
    }
   },
   "outputs": [],
   "source": [
    "raw_example = '700150000003002097800470126500390200030010050008027001975031004120700900000065002'"
   ]
  },
  {
   "cell_type": "markdown",
   "metadata": {
    "slideshow": {
     "slide_type": "slide"
    }
   },
   "source": [
    "## Factory function (OO)"
   ]
  },
  {
   "cell_type": "code",
   "execution_count": null,
   "metadata": {
    "slideshow": {
     "slide_type": "fragment"
    }
   },
   "outputs": [],
   "source": [
    "@dataclass\n",
    "class Sudoku:\n",
    "    grid: np.array\n",
    "\n",
    "    @classmethod\n",
    "    def from_string(cls, raw):\n",
    "        values = []\n",
    "        for digit in raw:\n",
    "            values.append(int(digit))\n",
    "        grid = np.array(values, dtype='int64').reshape((9, 9))\n",
    "        return cls(grid)"
   ]
  },
  {
   "cell_type": "code",
   "execution_count": null,
   "metadata": {
    "slideshow": {
     "slide_type": "fragment"
    }
   },
   "outputs": [],
   "source": [
    "Sudoku.from_string(raw_example)"
   ]
  },
  {
   "cell_type": "markdown",
   "metadata": {
    "slideshow": {
     "slide_type": "fragment"
    }
   },
   "source": [
    "* explicit, high-context\n",
    "* easy to find and use"
   ]
  },
  {
   "cell_type": "markdown",
   "metadata": {
    "slideshow": {
     "slide_type": "slide"
    }
   },
   "source": [
    "## Isolated function (FP)"
   ]
  },
  {
   "cell_type": "code",
   "execution_count": null,
   "metadata": {
    "slideshow": {
     "slide_type": "fragment"
    }
   },
   "outputs": [],
   "source": [
    "def parse_raw(raw):\n",
    "    return np.array(list(map(int, raw)), dtype='int64').reshape((9, 9))"
   ]
  },
  {
   "cell_type": "code",
   "execution_count": null,
   "metadata": {
    "slideshow": {
     "slide_type": "fragment"
    }
   },
   "outputs": [],
   "source": [
    "parse_raw(raw_example)"
   ]
  },
  {
   "cell_type": "markdown",
   "metadata": {
    "slideshow": {
     "slide_type": "fragment"
    }
   },
   "source": [
    "* free of assumptions about the use case\n",
    "* easy to reuse or generalise"
   ]
  },
  {
   "cell_type": "markdown",
   "metadata": {
    "slideshow": {
     "slide_type": "slide"
    }
   },
   "source": [
    "## Multi-paradigm solution\n",
    "Generalised, low-context pure function, use in high-context class"
   ]
  },
  {
   "cell_type": "code",
   "execution_count": null,
   "metadata": {
    "slideshow": {
     "slide_type": "fragment"
    }
   },
   "outputs": [],
   "source": [
    "def parse_raw(raw):\n",
    "    size = int(math.sqrt(len(raw)))\n",
    "    return np.array(list(map(int, raw)), dtype='int64').reshape((size, size))\n",
    "    \n",
    "    \n",
    "class Sudoku:\n",
    "    @classmethod\n",
    "    def from_string(cls, raw):\n",
    "        values = parse_raw(raw)\n",
    "        return cls(values)"
   ]
  },
  {
   "cell_type": "markdown",
   "metadata": {
    "slideshow": {
     "slide_type": "fragment"
    }
   },
   "source": [
    "* low-context pure functions *and* high-context class\n",
    "* tidy, reusable code\n",
    "* generalises well\n",
    "* works in any context\n",
    "* easy to use and explore"
   ]
  },
  {
   "cell_type": "markdown",
   "metadata": {
    "slideshow": {
     "slide_type": "slide"
    }
   },
   "source": [
    "## That tedious `for`-loop"
   ]
  },
  {
   "cell_type": "code",
   "execution_count": null,
   "metadata": {
    "slideshow": {
     "slide_type": "fragment"
    }
   },
   "outputs": [],
   "source": [
    "values = []\n",
    "for digit in raw_example:\n",
    "    values.append(int(digit))\n",
    "\n",
    "values[:5]"
   ]
  },
  {
   "cell_type": "markdown",
   "metadata": {
    "slideshow": {
     "slide_type": "fragment"
    }
   },
   "source": [
    "<img src=\"https://www.profkrg.com/wp-content/uploads/2014/10/I-would-have-written-a-shorter-letter.png\" style=\"max-height: 600px; float: left\"/>\n",
    "\n",
    "* easy to write\n",
    "* tedious to read and reconstruct\n",
    "* comparatively far from high-level intention\n",
    "* error prone"
   ]
  },
  {
   "cell_type": "markdown",
   "metadata": {
    "slideshow": {
     "slide_type": "slide"
    }
   },
   "source": [
    "The alternative:"
   ]
  },
  {
   "cell_type": "code",
   "execution_count": null,
   "metadata": {
    "slideshow": {
     "slide_type": "fragment"
    }
   },
   "outputs": [],
   "source": [
    "values = tuple(map(int, raw_example))\n",
    "\n",
    "values[:5]"
   ]
  },
  {
   "cell_type": "code",
   "execution_count": null,
   "metadata": {
    "slideshow": {
     "slide_type": "fragment"
    }
   },
   "outputs": [],
   "source": [
    "values = thread_last(raw_example, (map, int), tuple)"
   ]
  },
  {
   "cell_type": "markdown",
   "metadata": {
    "slideshow": {
     "slide_type": "fragment"
    }
   },
   "source": [
    "* concise\n",
    "* reflects the intention\n",
    "* easy to read\n",
    "* can take longer to write"
   ]
  },
  {
   "cell_type": "markdown",
   "metadata": {
    "slideshow": {
     "slide_type": "slide"
    }
   },
   "source": [
    "Also useful: *list comprehension*"
   ]
  },
  {
   "cell_type": "code",
   "execution_count": null,
   "metadata": {
    "slideshow": {
     "slide_type": "fragment"
    }
   },
   "outputs": [],
   "source": [
    "values = [int(digit) for digit in raw_example]"
   ]
  },
  {
   "cell_type": "markdown",
   "metadata": {
    "slideshow": {
     "slide_type": "fragment"
    }
   },
   "source": [
    "* Pythonic middle ground\n",
    "* easy to both read *and* write\n",
    "* do not use *lambda functions* in list comprehensions!\n",
    "* combine with pure functions for best results"
   ]
  },
  {
   "cell_type": "markdown",
   "metadata": {
    "slideshow": {
     "slide_type": "slide"
    }
   },
   "source": [
    "## Further example - display/format"
   ]
  },
  {
   "cell_type": "markdown",
   "metadata": {
    "slideshow": {
     "slide_type": "fragment"
    }
   },
   "source": [
    "### Object-oriented\n",
    "Implement `__repr__`"
   ]
  },
  {
   "cell_type": "code",
   "execution_count": null,
   "metadata": {
    "slideshow": {
     "slide_type": "fragment"
    }
   },
   "outputs": [],
   "source": [
    "from sudoku.oo.base import Sudoku\n",
    "\n",
    "Sudoku.from_string(raw_example)"
   ]
  },
  {
   "cell_type": "markdown",
   "metadata": {
    "slideshow": {
     "slide_type": "slide"
    }
   },
   "source": [
    "### Functional\n",
    "explicit functions"
   ]
  },
  {
   "cell_type": "code",
   "execution_count": null,
   "metadata": {
    "slideshow": {
     "slide_type": "fragment"
    }
   },
   "outputs": [],
   "source": [
    "from sudoku.fp.load import format_sudoku\n",
    "\n",
    "thread_last(raw_example, parse_raw, format_sudoku, print)"
   ]
  },
  {
   "cell_type": "markdown",
   "metadata": {
    "slideshow": {
     "slide_type": "slide"
    }
   },
   "source": [
    "### Multi-paradigm\n",
    "<img src=\"./img/why-not-both.jpg\" style=\"width: 250px;\"/>"
   ]
  },
  {
   "cell_type": "code",
   "execution_count": null,
   "metadata": {
    "slideshow": {
     "slide_type": "fragment"
    }
   },
   "outputs": [],
   "source": [
    "def format_sudoku(grid):\n",
    "    ...\n",
    "\n",
    "\n",
    "class Sudoku:\n",
    "    ...\n",
    "    \n",
    "    def __repr__(self):\n",
    "        return format_sudoku(self.grid)"
   ]
  },
  {
   "cell_type": "markdown",
   "metadata": {
    "slideshow": {
     "slide_type": "slide"
    }
   },
   "source": [
    "# Data Structures: explicit vs. minimalist\n",
    "Example: The Sudoku grid"
   ]
  },
  {
   "cell_type": "markdown",
   "metadata": {
    "slideshow": {
     "slide_type": "slide"
    }
   },
   "source": [
    "## Class Hierarchy (OO)"
   ]
  },
  {
   "cell_type": "markdown",
   "metadata": {
    "slideshow": {
     "slide_type": "fragment"
    }
   },
   "source": [
    "<img src=\"./img/erm.png\" style=\"max-height: 400px;\"/>"
   ]
  },
  {
   "cell_type": "code",
   "execution_count": null,
   "metadata": {
    "slideshow": {
     "slide_type": "fragment"
    }
   },
   "outputs": [],
   "source": [
    "from sudoku.oo.base import *\n",
    "\n",
    "oo_game = Sudoku.from_string(raw_example)\n",
    "oo_game.get_row(8)"
   ]
  },
  {
   "cell_type": "code",
   "execution_count": null,
   "metadata": {
    "slideshow": {
     "slide_type": "fragment"
    }
   },
   "outputs": [],
   "source": [
    "oo_game.get_square(8, 4)"
   ]
  },
  {
   "cell_type": "markdown",
   "metadata": {
    "slideshow": {
     "slide_type": "slide"
    }
   },
   "source": [
    "* assumes certain usage patterns\n",
    "* intuitive to explore\n",
    "* fairly rigid\n",
    "* requires lots of boilerplate"
   ]
  },
  {
   "cell_type": "code",
   "execution_count": null,
   "metadata": {
    "slideshow": {
     "slide_type": "fragment"
    }
   },
   "outputs": [],
   "source": [
    "# even with `dataclass` and without many getters, setters etc:\n",
    "!wc ./sudoku/oo/base.py"
   ]
  },
  {
   "cell_type": "markdown",
   "metadata": {
    "slideshow": {
     "slide_type": "slide"
    }
   },
   "source": [
    "## Simplicity (FP)"
   ]
  },
  {
   "cell_type": "code",
   "execution_count": null,
   "metadata": {
    "slideshow": {
     "slide_type": "fragment"
    }
   },
   "outputs": [],
   "source": [
    "import schema\n",
    "\n",
    "sudoku_schema = schema.And(np.ndarray,\n",
    "                           lambda a: a.shape == (9, 9),\n",
    "                           lambda a: a.dtype == 'int64')"
   ]
  },
  {
   "cell_type": "code",
   "execution_count": null,
   "metadata": {
    "slideshow": {
     "slide_type": "fragment"
    }
   },
   "outputs": [],
   "source": [
    "thread_last(raw_example, parse_raw, sudoku_schema.validate)"
   ]
  },
  {
   "cell_type": "markdown",
   "metadata": {
    "slideshow": {
     "slide_type": "fragment"
    }
   },
   "source": [
    "* minimalist approach with basic data types\n",
    "* zero boilerplate\n",
    "* no context on the data structure itself\n",
    "* harder to explore\n",
    "* easier to reuse"
   ]
  },
  {
   "cell_type": "markdown",
   "metadata": {
    "slideshow": {
     "slide_type": "slide"
    }
   },
   "source": [
    "## Multi-paradigm solution"
   ]
  },
  {
   "cell_type": "code",
   "execution_count": null,
   "metadata": {
    "slideshow": {
     "slide_type": "fragment"
    }
   },
   "outputs": [],
   "source": [
    "@dataclass\n",
    "class Sudoku:\n",
    "    grid: np.ndarray\n",
    "    \n",
    "    @property\n",
    "    def remaining_blanks(self):\n",
    "        return (self.grid == 0).sum()\n",
    "    \n",
    "    def __repr__(self):\n",
    "        ..."
   ]
  },
  {
   "cell_type": "markdown",
   "metadata": {
    "slideshow": {
     "slide_type": "fragment"
    }
   },
   "source": [
    "* \"shallow\" class\n",
    "* saves a lot of boilerplate code\n",
    "* adds context for user"
   ]
  },
  {
   "cell_type": "markdown",
   "metadata": {
    "slideshow": {
     "slide_type": "slide"
    }
   },
   "source": [
    "# State handling - mutable vs. immutable\n",
    "Example: Fill digits into Sudoku"
   ]
  },
  {
   "cell_type": "markdown",
   "metadata": {
    "slideshow": {
     "slide_type": "fragment"
    }
   },
   "source": [
    "Using a multi-paradigm implementation, inspired by `pandas`:"
   ]
  },
  {
   "cell_type": "code",
   "execution_count": null,
   "metadata": {
    "slideshow": {
     "slide_type": "fragment"
    }
   },
   "outputs": [],
   "source": [
    "from sudoku.mp.base import Sudoku\n",
    "\n",
    "blank = 81 * '0'\n",
    "sudoku = Sudoku.from_string(blank)\n",
    "sudoku"
   ]
  },
  {
   "cell_type": "markdown",
   "metadata": {
    "slideshow": {
     "slide_type": "slide"
    }
   },
   "source": [
    "## Mutable (OO)"
   ]
  },
  {
   "cell_type": "code",
   "execution_count": null,
   "metadata": {
    "slideshow": {
     "slide_type": "fragment"
    }
   },
   "outputs": [],
   "source": [
    "sudoku.set_digit(0, 0, 7, inplace=True)\n",
    "sudoku"
   ]
  },
  {
   "cell_type": "markdown",
   "metadata": {
    "slideshow": {
     "slide_type": "fragment"
    }
   },
   "source": [
    "* changed in-place\n",
    "* seems \"natural\"\n",
    "* no way back / history"
   ]
  },
  {
   "cell_type": "markdown",
   "metadata": {
    "slideshow": {
     "slide_type": "slide"
    }
   },
   "source": [
    "## Immutable (FP)"
   ]
  },
  {
   "cell_type": "code",
   "execution_count": null,
   "metadata": {
    "slideshow": {
     "slide_type": "fragment"
    }
   },
   "outputs": [],
   "source": [
    "sudoku.set_digit(2, 2, 4, inplace=False)"
   ]
  },
  {
   "cell_type": "code",
   "execution_count": null,
   "metadata": {
    "slideshow": {
     "slide_type": "slide"
    }
   },
   "outputs": [],
   "source": [
    "sudoku"
   ]
  },
  {
   "cell_type": "markdown",
   "metadata": {
    "slideshow": {
     "slide_type": "fragment"
    }
   },
   "source": [
    "* easy to reuse or parallelise (efficienct, avoids concurrecny errors)\n",
    "* natural versioning\n",
    "* lends itself well to pipelines or method chaining"
   ]
  },
  {
   "cell_type": "markdown",
   "metadata": {
    "slideshow": {
     "slide_type": "slide"
    }
   },
   "source": [
    "### Method Chaining"
   ]
  },
  {
   "cell_type": "code",
   "execution_count": null,
   "metadata": {
    "slideshow": {
     "slide_type": "fragment"
    }
   },
   "outputs": [],
   "source": [
    "(sudoku\n",
    " .set_digit(2, 8, 9)\n",
    " .set_digit(1, 0, 9)\n",
    " .set_digit(0, 3, 9))"
   ]
  },
  {
   "cell_type": "markdown",
   "metadata": {
    "slideshow": {
     "slide_type": "slide"
    }
   },
   "source": [
    "## Recommendation\n",
    "* make use of immutable data structures like `@dataclass(frozen=True)`, `NamedTuple`, `frozendict` and `pyrsistent.pmap`)\n",
    "* use mutable data structures in immutable ways (try the `toolz` library!)\n",
    "* keep functions pure and idempotent - use classes where configuration and state is required"
   ]
  },
  {
   "cell_type": "markdown",
   "metadata": {
    "slideshow": {
     "slide_type": "slide"
    }
   },
   "source": [
    "## Example in Pandas"
   ]
  },
  {
   "cell_type": "code",
   "execution_count": null,
   "metadata": {
    "slideshow": {
     "slide_type": "fragment"
    }
   },
   "outputs": [],
   "source": [
    "import pandas as pd\n",
    "\n",
    "df = pd.DataFrame(np.random.random((5,3)), columns=list('abc'))\n",
    "df"
   ]
  },
  {
   "cell_type": "code",
   "execution_count": null,
   "metadata": {
    "slideshow": {
     "slide_type": "fragment"
    }
   },
   "outputs": [],
   "source": [
    "(df\n",
    " .assign(sum=lambda df: df.sum(axis=1))\n",
    " .assign(a_percent=lambda df: df['a'] / df['sum'])\n",
    " .drop(index=[1,3]))"
   ]
  },
  {
   "cell_type": "code",
   "execution_count": null,
   "metadata": {
    "slideshow": {
     "slide_type": "slide"
    }
   },
   "outputs": [],
   "source": [
    "df"
   ]
  },
  {
   "cell_type": "markdown",
   "metadata": {
    "slideshow": {
     "slide_type": "fragment"
    }
   },
   "source": [
    "* cleaner Jupyter notebooks (execution order...)\n",
    "* better reusability\n",
    "* close to production-ready"
   ]
  },
  {
   "cell_type": "markdown",
   "metadata": {
    "slideshow": {
     "slide_type": "slide"
    }
   },
   "source": [
    "# Multiple implementations: polymorphism vs. function composition\n",
    "Example: Different Sudoku solvers"
   ]
  },
  {
   "cell_type": "markdown",
   "metadata": {
    "slideshow": {
     "slide_type": "fragment"
    }
   },
   "source": [
    "* Deterministic (mask, fill unambiguous, repeat) - insufficient"
   ]
  },
  {
   "cell_type": "markdown",
   "metadata": {
    "slideshow": {
     "slide_type": "fragment"
    }
   },
   "source": [
    "* Random (mask, fill random, repeat) - prohibitively slow"
   ]
  },
  {
   "cell_type": "markdown",
   "metadata": {
    "slideshow": {
     "slide_type": "fragment"
    }
   },
   "source": [
    "* Combined (deterministic as much as possible, random step, repeat)"
   ]
  },
  {
   "cell_type": "markdown",
   "metadata": {
    "slideshow": {
     "slide_type": "slide"
    }
   },
   "source": [
    "## OO - Solver class hierarchy"
   ]
  },
  {
   "cell_type": "markdown",
   "metadata": {
    "slideshow": {
     "slide_type": "fragment"
    }
   },
   "source": [
    "<img src=\"./img/erm_solver.png\" style=\"max-height: 800px\"/>"
   ]
  },
  {
   "cell_type": "code",
   "execution_count": null,
   "metadata": {
    "slideshow": {
     "slide_type": "slide"
    }
   },
   "outputs": [],
   "source": [
    "from sudoku.oo.solver import *\n",
    "\n",
    "sudoku = Sudoku.from_string(raw_example)\n",
    "solver = DeterministicSolver(sudoku)\n",
    "solver.solve()\n",
    "\n",
    "sudoku"
   ]
  },
  {
   "cell_type": "markdown",
   "metadata": {
    "slideshow": {
     "slide_type": "fragment"
    }
   },
   "source": [
    "* Mutable data access (as before)\n",
    "* Single-method classes excessive (boilerplate!)\n",
    "* Complicated design for simple functionality"
   ]
  },
  {
   "cell_type": "code",
   "execution_count": null,
   "metadata": {
    "slideshow": {
     "slide_type": "fragment"
    }
   },
   "outputs": [],
   "source": [
    "!wc ./sudoku/oo/solver.py"
   ]
  },
  {
   "cell_type": "markdown",
   "metadata": {
    "slideshow": {
     "slide_type": "slide"
    }
   },
   "source": [
    "## FP - solving function composition"
   ]
  },
  {
   "cell_type": "markdown",
   "metadata": {
    "slideshow": {
     "slide_type": "fragment"
    }
   },
   "source": [
    "<img src=\"./img/fp_solve.png\" style=\"max-height: 600px;\"/>"
   ]
  },
  {
   "cell_type": "code",
   "execution_count": null,
   "metadata": {
    "scrolled": true,
    "slideshow": {
     "slide_type": "slide"
    }
   },
   "outputs": [],
   "source": [
    "from sudoku.fp.solve import *\n",
    "from sudoku.fp.load import *\n",
    "\n",
    "solve_combined = partial(solve, step_function=combined_step)\n",
    "\n",
    "thread_last(raw_example, parse_raw, solve_combined, format_sudoku, print)"
   ]
  },
  {
   "cell_type": "markdown",
   "metadata": {
    "slideshow": {
     "slide_type": "fragment"
    }
   },
   "source": [
    "* very clear responsibilities per function\n",
    "* simple, pragmatic design\n",
    "* easy to introspect\n",
    "* much more concise (*and* no base module!)"
   ]
  },
  {
   "cell_type": "markdown",
   "metadata": {
    "slideshow": {
     "slide_type": "slide"
    }
   },
   "source": [
    "## Multi-paradigm solution"
   ]
  },
  {
   "cell_type": "code",
   "execution_count": null,
   "metadata": {
    "slideshow": {
     "slide_type": "fragment"
    }
   },
   "outputs": [],
   "source": [
    "from sudoku.fp import solve as _fp_solve\n",
    "from sudoku.mp.base import Sudoku\n",
    "\n",
    "\n",
    "def solve_sudoku(sudoku: Sudoku, step_function: Callable, max_tries: int = 1):\n",
    "    if max_tries == 1:\n",
    "        solved_grid = _fp_solve.solve(sudoku.grid, step_function)\n",
    "    else:\n",
    "        solved_grid = _fp_solve.repeat_solve(sudoku.grid,\n",
    "                                             partial(_fp_solve.solve, step_function=step_function),\n",
    "                                             max_tries=max_tries)\n",
    "    return Sudoku(solved_grid)"
   ]
  },
  {
   "cell_type": "markdown",
   "metadata": {
    "slideshow": {
     "slide_type": "fragment"
    }
   },
   "source": [
    "* simplicity and clarity of FP\n",
    "* takes and returns high-context Sudoku objects"
   ]
  },
  {
   "cell_type": "markdown",
   "metadata": {
    "slideshow": {
     "slide_type": "slide"
    }
   },
   "source": [
    "Or, with more context:"
   ]
  },
  {
   "cell_type": "code",
   "execution_count": null,
   "metadata": {
    "slideshow": {
     "slide_type": "-"
    }
   },
   "outputs": [],
   "source": [
    "from sudoku.mp.solve import solve\n",
    "\n",
    "\n",
    "@dataclass(frozen=True)\n",
    "class Solver:\n",
    "    step_function: Callable\n",
    "    max_tries: int = 1\n",
    "\n",
    "    def __call__(self, sudoku: Sudoku):\n",
    "        return solve(sudoku, self.step_function, self.max_tries)"
   ]
  },
  {
   "cell_type": "code",
   "execution_count": null,
   "metadata": {
    "slideshow": {
     "slide_type": "fragment"
    }
   },
   "outputs": [],
   "source": [
    "thread_last(raw_example, \n",
    "            Sudoku.from_string, \n",
    "            Solver(combined_step, max_tries=100))"
   ]
  },
  {
   "cell_type": "markdown",
   "metadata": {
    "slideshow": {
     "slide_type": "slide"
    }
   },
   "source": [
    "# Key Takeaways"
   ]
  },
  {
   "cell_type": "markdown",
   "metadata": {
    "slideshow": {
     "slide_type": "slide"
    }
   },
   "source": [
    "## Object-orientation\n",
    "* \"top-down\" design\n",
    "* larger, topical structures\n",
    "* explicit, high-context\n",
    "* functionality and data intertwined\n",
    "\n",
    "leads to:\n",
    "\n",
    "* intuitive use cases\n",
    "* high explorability"
   ]
  },
  {
   "cell_type": "markdown",
   "metadata": {
    "slideshow": {
     "slide_type": "slide"
    }
   },
   "source": [
    "## Functional programming\n",
    "* \"bottom-up\" design\n",
    "* simplistic thinking\n",
    "* small chunks of reusable logic, separate from data\n",
    "* high isolation, low context\n",
    "\n",
    "leads to\n",
    "* high reusability\n",
    "* tidy, concise code\n",
    "* flexible use cases"
   ]
  },
  {
   "cell_type": "markdown",
   "metadata": {
    "slideshow": {
     "slide_type": "slide"
    }
   },
   "source": [
    "## Multi-paradigm programming\n",
    "*pick & mix* of both worlds:\n",
    "* pure functions in mutable context\n",
    "    * brings the simplicity and elegance of FP into OO\n",
    "    * make your code explorable and easy to understand\n",
    "    * *remember*: no side effects, no problem!\n",
    "* mutable data in immutable context\n",
    "    * use your favourite OO libaries in concise FP code\n",
    "    * *remember*: copy-and-modify mutable data structures!\n",
    "\n",
    "leads to (ideally) - best of both worlds:\n",
    "* intuitive **and** flexible use cases\n",
    "* high explorability **and** reusability"
   ]
  },
  {
   "cell_type": "markdown",
   "metadata": {
    "slideshow": {
     "slide_type": "slide"
    }
   },
   "source": [
    "## My preferred Approach\n",
    "* iterate with a REPL\n",
    "* use immutable data types and pure functions where possible\n",
    "* create classes where either:\n",
    "    * required due to syntax or library\n",
    "    * high-context use cases are required"
   ]
  },
  {
   "cell_type": "markdown",
   "metadata": {
    "slideshow": {
     "slide_type": "slide"
    }
   },
   "source": [
    "# Thank you for your attention!\n",
    "\n",
    "# References & Further Reading\n",
    "Full notebook and code available at https://github.com/eliasmistler/europython2020-multi-paradigm-sudoku\n",
    "\n",
    "* [MP Patterns](https://www.researchgate.net/publication/2740355_Multiparadigm_Patterns_of_Thought_and_Design)\n",
    "* [OO Patterns](https://www.oodesign.com/)\n",
    "* [OO Antipatterns](https://wiki.c2.com/?ClassicOoAntiPatterns)\n",
    "* [FP Patterns](https://patternsinfp.wordpress.com/)\n",
    "* [FP Basics](https://www.freecodecamp.org/news/an-introduction-to-the-basic-principles-of-functional-programming-a2c2a15c84/)\n",
    "* [OO Basics](https://introprogramming.info/english-intro-csharp-book/read-online/chapter-20-object-oriented-programming-principles/)\n",
    "* [`toolz` library](https://toolz.readthedocs.io/en/latest/)\n",
    "* [Python dataclasses](https://docs.python.org/3/library/dataclasses.html)\n",
    "* [`schema` library](https://pypi.org/project/schema/)\n",
    "* [OO vs FP](https://www.codenewbie.org/blogs/object-oriented-programming-vs-functional-programming)\n",
    "* [OO imrpoved by non-member functions](https://www.drdobbs.com/cpp/how-non-member-functions-improve-encapsu/184401197)\n",
    "* [OpenSudoku](https://opensudoku.moire.org/)\n",
    "* [class or callable?](https://treyhunner.com/2019/04/is-it-a-class-or-a-function-its-a-callable/)\n",
    "* [Python decorators](https://blog.miguelgrinberg.com/post/the-ultimate-guide-to-python-decorators-part-i-function-registration) and [a primer](https://realpython.com/primer-on-python-decorators/)\n",
    "* [Python dependency injection](https://medium.com/@shivama205/dependency-injection-python-cb2b5f336dce)"
   ]
  }
 ],
 "metadata": {
  "celltoolbar": "Slideshow",
  "kernelspec": {
   "display_name": "Python 3",
   "language": "python",
   "name": "python3"
  },
  "language_info": {
   "codemirror_mode": {
    "name": "ipython",
    "version": 3
   },
   "file_extension": ".py",
   "mimetype": "text/x-python",
   "name": "python",
   "nbconvert_exporter": "python",
   "pygments_lexer": "ipython3",
   "version": "3.7.4"
  },
  "rise": {
   "footer": "<h3>EuroPython 2020, Elias Mistler</h3>",
   "header": "<h3>Multi-paradigm programming</h3>",
   "theme": "simple"
  },
  "toc-autonumbering": true,
  "toc-showtags": false
 },
 "nbformat": 4,
 "nbformat_minor": 4
}
