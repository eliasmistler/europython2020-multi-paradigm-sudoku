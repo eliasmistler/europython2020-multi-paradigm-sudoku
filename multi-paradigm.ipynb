{
 "cells": [
  {
   "cell_type": "markdown",
   "metadata": {
    "slideshow": {
     "slide_type": "slide"
    }
   },
   "source": [
    "**Multi-paradigm programming in Python**\n",
    "\n",
    "Elias Mistler | Machine Learning Engineer\n",
    "\n",
    "[Previse](https://previ.se/)\n",
    "\n",
    "https://github.com/eliasmistler/europython2020-multi-paradigm-sudoku"
   ]
  },
  {
   "cell_type": "markdown",
   "metadata": {
    "slideshow": {
     "slide_type": "slide"
    }
   },
   "source": [
    "**Quick Intro**\n",
    "* Elias Mistler\n",
    "* Previse\n",
    "    * Invoice financing\n",
    "    * based on ML\n",
    "    * corporate data\n",
    "    * improve SME cashflow\n",
    "* Machine Learning Engineer\n",
    "    * ML integration into invoice processing platform\n",
    "    * Buyer data intake and mapping\n",
    "    * Operational tooling"
   ]
  },
  {
   "cell_type": "code",
   "execution_count": 1,
   "metadata": {
    "slideshow": {
     "slide_type": "skip"
    }
   },
   "outputs": [],
   "source": [
    "import logging\n",
    "import random\n",
    "from itertools import chain, product, starmap\n",
    "from abc import ABC, abstractmethod\n",
    "from dataclasses import dataclass\n",
    "from typing import Dict, List, Callable\n",
    "from xml.etree import ElementTree\n",
    "\n",
    "import numpy as np\n",
    "import requests\n",
    "import xmltodict\n",
    "from toolz import *\n",
    "import math\n",
    "\n",
    "from collections import Counter\n",
    "\n",
    "%load_ext autoreload\n",
    "%autoreload 2"
   ]
  },
  {
   "cell_type": "markdown",
   "metadata": {
    "slideshow": {
     "slide_type": "slide"
    }
   },
   "source": [
    "# Contents\n",
    "\n",
    "* Introduction\n",
    "* Code Structure\n",
    "* Data Structures\n",
    "* State Handling\n",
    "* Multiple implementations\n",
    "* Summary"
   ]
  },
  {
   "cell_type": "markdown",
   "metadata": {
    "slideshow": {
     "slide_type": "slide"
    }
   },
   "source": [
    "# Introduction\n",
    "* Python = multi-paradigm, pragmatic (unlike OO Java / FP Clojure)\n",
    "* libraries\n",
    "* OOP and FP are **concepts**, not tied to syntax (`class` or `def`)"
   ]
  },
  {
   "cell_type": "markdown",
   "metadata": {
    "slideshow": {
     "slide_type": "slide"
    }
   },
   "source": [
    "## Object-oriented principles\n",
    "* mutable data structures\n",
    "* (relies on rich type system)\n",
    "* class hierarchies\n",
    "    * inheritance\n",
    "    * abstraction\n",
    "    * encapsulation\n",
    "    * polymorphism"
   ]
  },
  {
   "cell_type": "markdown",
   "metadata": {
    "slideshow": {
     "slide_type": "slide"
    }
   },
   "source": [
    "## Functional programming Principles\n",
    "\n",
    "* immutable data structures\n",
    "* (relies on simple data types)\n",
    "* pure functions\n",
    "    * no side-effects\n",
    "    * idempotent"
   ]
  },
  {
   "cell_type": "markdown",
   "metadata": {
    "slideshow": {
     "slide_type": "slide"
    }
   },
   "source": [
    "## Sudoku\n",
    "<img src=\"./img/sudoku.png\" style=\"width: 400px; float: left\"/>\n",
    "\n",
    "* 9 x 9 field (81 squares)\n",
    "* numbers from 1 - 9\n",
    "* each row/column/block should contain each digit"
   ]
  },
  {
   "cell_type": "markdown",
   "metadata": {
    "slideshow": {
     "slide_type": "slide"
    }
   },
   "source": [
    "# Code structure: high- vs. low-context\n",
    "Example: parse raw Sudoku string (from [OpenSudoku](https://opensudoku.moire.org/)) to array"
   ]
  },
  {
   "cell_type": "code",
   "execution_count": 2,
   "metadata": {
    "slideshow": {
     "slide_type": "fragment"
    }
   },
   "outputs": [],
   "source": [
    "raw_example = '700150000003002097800470126500390200030010050008027001975031004120700900000065002'"
   ]
  },
  {
   "cell_type": "markdown",
   "metadata": {
    "slideshow": {
     "slide_type": "slide"
    }
   },
   "source": [
    "## Factory function (OO)"
   ]
  },
  {
   "cell_type": "code",
   "execution_count": 3,
   "metadata": {
    "slideshow": {
     "slide_type": "fragment"
    }
   },
   "outputs": [],
   "source": [
    "@dataclass\n",
    "class Sudoku:\n",
    "    values: np.array\n",
    "\n",
    "    @classmethod\n",
    "    def from_string(cls, raw):\n",
    "        values = []\n",
    "        for idx, digit in enumerate(raw):\n",
    "            values.append(int(digit))\n",
    "        values = np.array(values, dtype='int64').reshape((9, 9))\n",
    "        return cls(values)"
   ]
  },
  {
   "cell_type": "code",
   "execution_count": 4,
   "metadata": {
    "slideshow": {
     "slide_type": "fragment"
    }
   },
   "outputs": [
    {
     "data": {
      "text/plain": [
       "Sudoku(values=array([[7, 0, 0, 1, 5, 0, 0, 0, 0],\n",
       "       [0, 0, 3, 0, 0, 2, 0, 9, 7],\n",
       "       [8, 0, 0, 4, 7, 0, 1, 2, 6],\n",
       "       [5, 0, 0, 3, 9, 0, 2, 0, 0],\n",
       "       [0, 3, 0, 0, 1, 0, 0, 5, 0],\n",
       "       [0, 0, 8, 0, 2, 7, 0, 0, 1],\n",
       "       [9, 7, 5, 0, 3, 1, 0, 0, 4],\n",
       "       [1, 2, 0, 7, 0, 0, 9, 0, 0],\n",
       "       [0, 0, 0, 0, 6, 5, 0, 0, 2]]))"
      ]
     },
     "execution_count": 4,
     "metadata": {},
     "output_type": "execute_result"
    }
   ],
   "source": [
    "Sudoku.from_string(raw_example)"
   ]
  },
  {
   "cell_type": "markdown",
   "metadata": {
    "slideshow": {
     "slide_type": "fragment"
    }
   },
   "source": [
    "* explicit, high-context\n",
    "* easy to find and use"
   ]
  },
  {
   "cell_type": "markdown",
   "metadata": {
    "slideshow": {
     "slide_type": "slide"
    }
   },
   "source": [
    "## Isolated function (FP)"
   ]
  },
  {
   "cell_type": "code",
   "execution_count": 5,
   "metadata": {
    "slideshow": {
     "slide_type": "fragment"
    }
   },
   "outputs": [],
   "source": [
    "def parse_raw(raw):\n",
    "    return np.array(list(map(int, raw)), dtype='int64').reshape((9, 9))"
   ]
  },
  {
   "cell_type": "code",
   "execution_count": 6,
   "metadata": {
    "slideshow": {
     "slide_type": "fragment"
    }
   },
   "outputs": [
    {
     "data": {
      "text/plain": [
       "array([[7, 0, 0, 1, 5, 0, 0, 0, 0],\n",
       "       [0, 0, 3, 0, 0, 2, 0, 9, 7],\n",
       "       [8, 0, 0, 4, 7, 0, 1, 2, 6],\n",
       "       [5, 0, 0, 3, 9, 0, 2, 0, 0],\n",
       "       [0, 3, 0, 0, 1, 0, 0, 5, 0],\n",
       "       [0, 0, 8, 0, 2, 7, 0, 0, 1],\n",
       "       [9, 7, 5, 0, 3, 1, 0, 0, 4],\n",
       "       [1, 2, 0, 7, 0, 0, 9, 0, 0],\n",
       "       [0, 0, 0, 0, 6, 5, 0, 0, 2]])"
      ]
     },
     "execution_count": 6,
     "metadata": {},
     "output_type": "execute_result"
    }
   ],
   "source": [
    "parse_raw(raw_example)"
   ]
  },
  {
   "cell_type": "markdown",
   "metadata": {
    "slideshow": {
     "slide_type": "fragment"
    }
   },
   "source": [
    "* free of assumptions about the use case\n",
    "* easy to reuse or generalise"
   ]
  },
  {
   "cell_type": "markdown",
   "metadata": {
    "slideshow": {
     "slide_type": "slide"
    }
   },
   "source": [
    "## Multi-paradigm solution\n",
    "Generalised, low-context pure function, use in high-context class"
   ]
  },
  {
   "cell_type": "code",
   "execution_count": 7,
   "metadata": {
    "slideshow": {
     "slide_type": "fragment"
    }
   },
   "outputs": [],
   "source": [
    "def parse_raw(raw):\n",
    "    size = int(math.sqrt(len(raw)))\n",
    "    return np.array(list(map(int, raw)), dtype='int64').reshape((size, size))\n",
    "    \n",
    "    \n",
    "class Sudoku:\n",
    "    @classmethod\n",
    "    def from_string(cls, raw):\n",
    "        values = parse_raw(raw)\n",
    "        return cls(values)"
   ]
  },
  {
   "cell_type": "markdown",
   "metadata": {
    "slideshow": {
     "slide_type": "fragment"
    }
   },
   "source": [
    "* low-context pure functions *and* high-context class\n",
    "* tidy, reusable code\n",
    "* generalises well\n",
    "* works in any context\n",
    "* easy to use"
   ]
  },
  {
   "cell_type": "markdown",
   "metadata": {
    "slideshow": {
     "slide_type": "slide"
    }
   },
   "source": [
    "## That tedious `for`-loop"
   ]
  },
  {
   "cell_type": "code",
   "execution_count": 8,
   "metadata": {
    "slideshow": {
     "slide_type": "fragment"
    }
   },
   "outputs": [
    {
     "data": {
      "text/plain": [
       "[7, 0, 0, 1, 5]"
      ]
     },
     "execution_count": 8,
     "metadata": {},
     "output_type": "execute_result"
    }
   ],
   "source": [
    "values = []\n",
    "for digit in raw_example:\n",
    "    values.append(int(digit))\n",
    "\n",
    "values[:5]"
   ]
  },
  {
   "cell_type": "markdown",
   "metadata": {
    "slideshow": {
     "slide_type": "fragment"
    }
   },
   "source": [
    "<img src=\"https://www.profkrg.com/wp-content/uploads/2014/10/I-would-have-written-a-shorter-letter.png\" style=\"max-height: 600px; float: left\"/>\n",
    "\n",
    "* comparatively far from high-level intention\n",
    "* error prone \n",
    "* easy to write\n",
    "* tedious to read and reconstruct"
   ]
  },
  {
   "cell_type": "markdown",
   "metadata": {
    "slideshow": {
     "slide_type": "slide"
    }
   },
   "source": [
    "The alternative:"
   ]
  },
  {
   "cell_type": "code",
   "execution_count": 9,
   "metadata": {
    "slideshow": {
     "slide_type": "fragment"
    }
   },
   "outputs": [
    {
     "data": {
      "text/plain": [
       "(7, 0, 0, 1, 5)"
      ]
     },
     "execution_count": 9,
     "metadata": {},
     "output_type": "execute_result"
    }
   ],
   "source": [
    "values = tuple(map(int, raw_example))\n",
    "\n",
    "values[:5]"
   ]
  },
  {
   "cell_type": "code",
   "execution_count": 10,
   "metadata": {
    "slideshow": {
     "slide_type": "fragment"
    }
   },
   "outputs": [],
   "source": [
    "values = thread_last(raw_example, (map, int), tuple)"
   ]
  },
  {
   "cell_type": "markdown",
   "metadata": {
    "slideshow": {
     "slide_type": "fragment"
    }
   },
   "source": [
    "* concise\n",
    "* reflects the intention\n",
    "* easy to read\n",
    "* can take longer to write"
   ]
  },
  {
   "cell_type": "markdown",
   "metadata": {
    "slideshow": {
     "slide_type": "slide"
    }
   },
   "source": [
    "## Further example - display/format"
   ]
  },
  {
   "cell_type": "markdown",
   "metadata": {
    "slideshow": {
     "slide_type": "fragment"
    }
   },
   "source": [
    "### Object-oriented\n",
    "Implement `__repr__`"
   ]
  },
  {
   "cell_type": "code",
   "execution_count": 11,
   "metadata": {
    "slideshow": {
     "slide_type": "fragment"
    }
   },
   "outputs": [
    {
     "data": {
      "text/plain": [
       "+---+---+---+---+---+---+---+---+---+\n",
       "| 7 |   |   | 1 | 5 |   |   |   |   |\n",
       "+---+---+---+---+---+---+---+---+---+\n",
       "|   |   | 3 |   |   | 2 |   | 9 | 7 |\n",
       "+---+---+---+---+---+---+---+---+---+\n",
       "| 8 |   |   | 4 | 7 |   | 1 | 2 | 6 |\n",
       "+---+---+---+---+---+---+---+---+---+\n",
       "| 5 |   |   | 3 | 9 |   | 2 |   |   |\n",
       "+---+---+---+---+---+---+---+---+---+\n",
       "|   | 3 |   |   | 1 |   |   | 5 |   |\n",
       "+---+---+---+---+---+---+---+---+---+\n",
       "|   |   | 8 |   | 2 | 7 |   |   | 1 |\n",
       "+---+---+---+---+---+---+---+---+---+\n",
       "| 9 | 7 | 5 |   | 3 | 1 |   |   | 4 |\n",
       "+---+---+---+---+---+---+---+---+---+\n",
       "| 1 | 2 |   | 7 |   |   | 9 |   |   |\n",
       "+---+---+---+---+---+---+---+---+---+\n",
       "|   |   |   |   | 6 | 5 |   |   | 2 |\n",
       "+---+---+---+---+---+---+---+---+---+"
      ]
     },
     "execution_count": 11,
     "metadata": {},
     "output_type": "execute_result"
    }
   ],
   "source": [
    "from sudoku.oo.base import Sudoku\n",
    "\n",
    "Sudoku.from_string(raw_example)"
   ]
  },
  {
   "cell_type": "markdown",
   "metadata": {
    "slideshow": {
     "slide_type": "slide"
    }
   },
   "source": [
    "### Functional\n",
    "explicit functions"
   ]
  },
  {
   "cell_type": "code",
   "execution_count": 12,
   "metadata": {
    "slideshow": {
     "slide_type": "fragment"
    }
   },
   "outputs": [
    {
     "name": "stdout",
     "output_type": "stream",
     "text": [
      "+---+---+---+---+---+---+---+---+---+\n",
      "| 7 |   |   | 1 | 5 |   |   |   |   |\n",
      "+---+---+---+---+---+---+---+---+---+\n",
      "|   |   | 3 |   |   | 2 |   | 9 | 7 |\n",
      "+---+---+---+---+---+---+---+---+---+\n",
      "| 8 |   |   | 4 | 7 |   | 1 | 2 | 6 |\n",
      "+---+---+---+---+---+---+---+---+---+\n",
      "| 5 |   |   | 3 | 9 |   | 2 |   |   |\n",
      "+---+---+---+---+---+---+---+---+---+\n",
      "|   | 3 |   |   | 1 |   |   | 5 |   |\n",
      "+---+---+---+---+---+---+---+---+---+\n",
      "|   |   | 8 |   | 2 | 7 |   |   | 1 |\n",
      "+---+---+---+---+---+---+---+---+---+\n",
      "| 9 | 7 | 5 |   | 3 | 1 |   |   | 4 |\n",
      "+---+---+---+---+---+---+---+---+---+\n",
      "| 1 | 2 |   | 7 |   |   | 9 |   |   |\n",
      "+---+---+---+---+---+---+---+---+---+\n",
      "|   |   |   |   | 6 | 5 |   |   | 2 |\n",
      "+---+---+---+---+---+---+---+---+---+\n"
     ]
    }
   ],
   "source": [
    "from sudoku.fp.load import *\n",
    "\n",
    "thread_last(raw_example, parse_raw, format_sudoku, print)"
   ]
  },
  {
   "cell_type": "markdown",
   "metadata": {
    "slideshow": {
     "slide_type": "slide"
    }
   },
   "source": [
    "### Multi-paradigm\n",
    "<img src=\"./img/why-not-both.jpg\" style=\"width: 200px;\"/>"
   ]
  },
  {
   "cell_type": "code",
   "execution_count": 13,
   "metadata": {
    "slideshow": {
     "slide_type": "fragment"
    }
   },
   "outputs": [],
   "source": [
    "def format_sudoku(grid):\n",
    "    ...\n",
    "\n",
    "\n",
    "class Sudoku:\n",
    "    ...\n",
    "    \n",
    "    def __repr__(self):\n",
    "        return format_sudoku(self.grid)"
   ]
  },
  {
   "cell_type": "markdown",
   "metadata": {
    "slideshow": {
     "slide_type": "slide"
    }
   },
   "source": [
    "# Data Structures: explicit vs. minimalist\n",
    "Example: The Sudoku grid"
   ]
  },
  {
   "cell_type": "markdown",
   "metadata": {
    "slideshow": {
     "slide_type": "slide"
    }
   },
   "source": [
    "## Class Hierarchy (OO)"
   ]
  },
  {
   "cell_type": "markdown",
   "metadata": {
    "slideshow": {
     "slide_type": "fragment"
    }
   },
   "source": [
    "<img src=\"./img/erm.png\" style=\"max-height: 250px;\"/>"
   ]
  },
  {
   "cell_type": "code",
   "execution_count": 14,
   "metadata": {
    "slideshow": {
     "slide_type": "fragment"
    }
   },
   "outputs": [
    {
     "data": {
      "text/plain": [
       "|   |   |   |   | 6 | 5 |   |   | 2 |"
      ]
     },
     "execution_count": 14,
     "metadata": {},
     "output_type": "execute_result"
    }
   ],
   "source": [
    "from sudoku.oo.base import *\n",
    "\n",
    "oo_game = Sudoku.from_string(raw_example)\n",
    "oo_game.get_row(8)"
   ]
  },
  {
   "cell_type": "code",
   "execution_count": 15,
   "metadata": {
    "slideshow": {
     "slide_type": "fragment"
    }
   },
   "outputs": [
    {
     "data": {
      "text/plain": [
       "Square(y=8, x=4, digit=6, locked=True)"
      ]
     },
     "execution_count": 15,
     "metadata": {},
     "output_type": "execute_result"
    }
   ],
   "source": [
    "oo_game.get_square(8, 4)"
   ]
  },
  {
   "cell_type": "markdown",
   "metadata": {
    "slideshow": {
     "slide_type": "fragment"
    }
   },
   "source": [
    "* assumes certain usage patterns\n",
    "* intuitive to explore\n",
    "* fairly rigid\n",
    "* requires lots of boilerplate"
   ]
  },
  {
   "cell_type": "code",
   "execution_count": 16,
   "metadata": {
    "slideshow": {
     "slide_type": "fragment"
    }
   },
   "outputs": [
    {
     "name": "stdout",
     "output_type": "stream",
     "text": [
      "     121     335    3148 ./sudoku/oo/base.py\r\n"
     ]
    }
   ],
   "source": [
    "# even with `dataclass` and without many getters, setters etc:\n",
    "!wc ./sudoku/oo/base.py"
   ]
  },
  {
   "cell_type": "markdown",
   "metadata": {
    "slideshow": {
     "slide_type": "slide"
    }
   },
   "source": [
    "## Simplicity (FP)"
   ]
  },
  {
   "cell_type": "code",
   "execution_count": 17,
   "metadata": {
    "slideshow": {
     "slide_type": "fragment"
    }
   },
   "outputs": [],
   "source": [
    "import schema\n",
    "\n",
    "sudoku_schema = schema.And(np.ndarray,\n",
    "                           lambda a: a.shape == (9, 9),\n",
    "                           lambda a: a.dtype == 'int64')"
   ]
  },
  {
   "cell_type": "code",
   "execution_count": 18,
   "metadata": {
    "slideshow": {
     "slide_type": "fragment"
    }
   },
   "outputs": [
    {
     "data": {
      "text/plain": [
       "array([[7, 0, 0, 1, 5, 0, 0, 0, 0],\n",
       "       [0, 0, 3, 0, 0, 2, 0, 9, 7],\n",
       "       [8, 0, 0, 4, 7, 0, 1, 2, 6],\n",
       "       [5, 0, 0, 3, 9, 0, 2, 0, 0],\n",
       "       [0, 3, 0, 0, 1, 0, 0, 5, 0],\n",
       "       [0, 0, 8, 0, 2, 7, 0, 0, 1],\n",
       "       [9, 7, 5, 0, 3, 1, 0, 0, 4],\n",
       "       [1, 2, 0, 7, 0, 0, 9, 0, 0],\n",
       "       [0, 0, 0, 0, 6, 5, 0, 0, 2]])"
      ]
     },
     "execution_count": 18,
     "metadata": {},
     "output_type": "execute_result"
    }
   ],
   "source": [
    "thread_last(raw_example, parse_raw, sudoku_schema.validate)"
   ]
  },
  {
   "cell_type": "markdown",
   "metadata": {
    "slideshow": {
     "slide_type": "fragment"
    }
   },
   "source": [
    "* minimalist approach with basic data types\n",
    "* zero boilerplate\n",
    "* no context on the data structure itself (harder to explore)"
   ]
  },
  {
   "cell_type": "markdown",
   "metadata": {
    "slideshow": {
     "slide_type": "slide"
    }
   },
   "source": [
    "## Multi-paradigm solution"
   ]
  },
  {
   "cell_type": "code",
   "execution_count": 19,
   "metadata": {
    "slideshow": {
     "slide_type": "fragment"
    }
   },
   "outputs": [],
   "source": [
    "@dataclass\n",
    "class Sudoku:\n",
    "    grid: np.ndarray\n",
    "    \n",
    "    @property\n",
    "    def remaining_blanks(self):\n",
    "        return (self.grid == 0).sum()\n",
    "    \n",
    "    def __repr__(self):\n",
    "        ..."
   ]
  },
  {
   "cell_type": "markdown",
   "metadata": {
    "slideshow": {
     "slide_type": "fragment"
    }
   },
   "source": [
    "* \"shallow\" class\n",
    "* saves a lot of boilerplate code\n",
    "* adds context for user"
   ]
  },
  {
   "cell_type": "markdown",
   "metadata": {
    "slideshow": {
     "slide_type": "slide"
    }
   },
   "source": [
    "# State handling - mutable vs. immutable\n",
    "Example: Fill digits into Sudoku"
   ]
  },
  {
   "cell_type": "markdown",
   "metadata": {
    "slideshow": {
     "slide_type": "fragment"
    }
   },
   "source": [
    "Using a multi-paradigm implementation, inspired by `pandas`:"
   ]
  },
  {
   "cell_type": "code",
   "execution_count": 20,
   "metadata": {
    "slideshow": {
     "slide_type": "fragment"
    }
   },
   "outputs": [
    {
     "data": {
      "text/plain": [
       "+---+---+---+---+---+---+---+---+---+\n",
       "|   |   |   |   |   |   |   |   |   |\n",
       "+---+---+---+---+---+---+---+---+---+\n",
       "|   |   |   |   |   |   |   |   |   |\n",
       "+---+---+---+---+---+---+---+---+---+\n",
       "|   |   |   |   |   |   |   |   |   |\n",
       "+---+---+---+---+---+---+---+---+---+\n",
       "|   |   |   |   |   |   |   |   |   |\n",
       "+---+---+---+---+---+---+---+---+---+\n",
       "|   |   |   |   |   |   |   |   |   |\n",
       "+---+---+---+---+---+---+---+---+---+\n",
       "|   |   |   |   |   |   |   |   |   |\n",
       "+---+---+---+---+---+---+---+---+---+\n",
       "|   |   |   |   |   |   |   |   |   |\n",
       "+---+---+---+---+---+---+---+---+---+\n",
       "|   |   |   |   |   |   |   |   |   |\n",
       "+---+---+---+---+---+---+---+---+---+\n",
       "|   |   |   |   |   |   |   |   |   |\n",
       "+---+---+---+---+---+---+---+---+---+"
      ]
     },
     "execution_count": 20,
     "metadata": {},
     "output_type": "execute_result"
    }
   ],
   "source": [
    "from sudoku.mp.base import Sudoku\n",
    "\n",
    "blank = 81 * '0'\n",
    "sudoku = Sudoku.from_string(blank)\n",
    "sudoku"
   ]
  },
  {
   "cell_type": "markdown",
   "metadata": {
    "slideshow": {
     "slide_type": "slide"
    }
   },
   "source": [
    "## Mutable (OO)"
   ]
  },
  {
   "cell_type": "code",
   "execution_count": 21,
   "metadata": {
    "slideshow": {
     "slide_type": "fragment"
    }
   },
   "outputs": [
    {
     "data": {
      "text/plain": [
       "+---+---+---+---+---+---+---+---+---+\n",
       "| 7 |   |   |   |   |   |   |   |   |\n",
       "+---+---+---+---+---+---+---+---+---+\n",
       "|   |   |   |   |   |   |   |   |   |\n",
       "+---+---+---+---+---+---+---+---+---+\n",
       "|   |   |   |   |   |   |   |   |   |\n",
       "+---+---+---+---+---+---+---+---+---+\n",
       "|   |   |   |   |   |   |   |   |   |\n",
       "+---+---+---+---+---+---+---+---+---+\n",
       "|   |   |   |   |   |   |   |   |   |\n",
       "+---+---+---+---+---+---+---+---+---+\n",
       "|   |   |   |   |   |   |   |   |   |\n",
       "+---+---+---+---+---+---+---+---+---+\n",
       "|   |   |   |   |   |   |   |   |   |\n",
       "+---+---+---+---+---+---+---+---+---+\n",
       "|   |   |   |   |   |   |   |   |   |\n",
       "+---+---+---+---+---+---+---+---+---+\n",
       "|   |   |   |   |   |   |   |   |   |\n",
       "+---+---+---+---+---+---+---+---+---+"
      ]
     },
     "execution_count": 21,
     "metadata": {},
     "output_type": "execute_result"
    }
   ],
   "source": [
    "sudoku.set_digit(0, 0, 7, inplace=True)\n",
    "sudoku"
   ]
  },
  {
   "cell_type": "markdown",
   "metadata": {
    "slideshow": {
     "slide_type": "fragment"
    }
   },
   "source": [
    "* tiny performance benefit (usually negligible)"
   ]
  },
  {
   "cell_type": "markdown",
   "metadata": {
    "slideshow": {
     "slide_type": "slide"
    }
   },
   "source": [
    "## Immutable (FP)"
   ]
  },
  {
   "cell_type": "code",
   "execution_count": 22,
   "metadata": {
    "slideshow": {
     "slide_type": "fragment"
    }
   },
   "outputs": [
    {
     "data": {
      "text/plain": [
       "+---+---+---+---+---+---+---+---+---+\n",
       "| 7 |   |   |   |   |   |   |   |   |\n",
       "+---+---+---+---+---+---+---+---+---+\n",
       "|   |   |   |   |   |   |   |   |   |\n",
       "+---+---+---+---+---+---+---+---+---+\n",
       "|   |   | 4 |   |   |   |   |   |   |\n",
       "+---+---+---+---+---+---+---+---+---+\n",
       "|   |   |   |   |   |   |   |   |   |\n",
       "+---+---+---+---+---+---+---+---+---+\n",
       "|   |   |   |   |   |   |   |   |   |\n",
       "+---+---+---+---+---+---+---+---+---+\n",
       "|   |   |   |   |   |   |   |   |   |\n",
       "+---+---+---+---+---+---+---+---+---+\n",
       "|   |   |   |   |   |   |   |   |   |\n",
       "+---+---+---+---+---+---+---+---+---+\n",
       "|   |   |   |   |   |   |   |   |   |\n",
       "+---+---+---+---+---+---+---+---+---+\n",
       "|   |   |   |   |   |   |   |   |   |\n",
       "+---+---+---+---+---+---+---+---+---+"
      ]
     },
     "execution_count": 22,
     "metadata": {},
     "output_type": "execute_result"
    }
   ],
   "source": [
    "sudoku.set_digit(2, 2, 4, inplace=False)"
   ]
  },
  {
   "cell_type": "code",
   "execution_count": 23,
   "metadata": {
    "slideshow": {
     "slide_type": "slide"
    }
   },
   "outputs": [
    {
     "data": {
      "text/plain": [
       "+---+---+---+---+---+---+---+---+---+\n",
       "| 7 |   |   |   |   |   |   |   |   |\n",
       "+---+---+---+---+---+---+---+---+---+\n",
       "|   |   |   |   |   |   |   |   |   |\n",
       "+---+---+---+---+---+---+---+---+---+\n",
       "|   |   |   |   |   |   |   |   |   |\n",
       "+---+---+---+---+---+---+---+---+---+\n",
       "|   |   |   |   |   |   |   |   |   |\n",
       "+---+---+---+---+---+---+---+---+---+\n",
       "|   |   |   |   |   |   |   |   |   |\n",
       "+---+---+---+---+---+---+---+---+---+\n",
       "|   |   |   |   |   |   |   |   |   |\n",
       "+---+---+---+---+---+---+---+---+---+\n",
       "|   |   |   |   |   |   |   |   |   |\n",
       "+---+---+---+---+---+---+---+---+---+\n",
       "|   |   |   |   |   |   |   |   |   |\n",
       "+---+---+---+---+---+---+---+---+---+\n",
       "|   |   |   |   |   |   |   |   |   |\n",
       "+---+---+---+---+---+---+---+---+---+"
      ]
     },
     "execution_count": 23,
     "metadata": {},
     "output_type": "execute_result"
    }
   ],
   "source": [
    "sudoku"
   ]
  },
  {
   "cell_type": "markdown",
   "metadata": {
    "slideshow": {
     "slide_type": "fragment"
    }
   },
   "source": [
    "* easy to reuse or paralellise\n",
    "* natural versioning\n",
    "* lends itself well to pipelines or method chaining"
   ]
  },
  {
   "cell_type": "markdown",
   "metadata": {
    "slideshow": {
     "slide_type": "slide"
    }
   },
   "source": [
    "### Method Chaining"
   ]
  },
  {
   "cell_type": "code",
   "execution_count": 24,
   "metadata": {
    "slideshow": {
     "slide_type": "fragment"
    }
   },
   "outputs": [
    {
     "data": {
      "text/plain": [
       "+---+---+---+---+---+---+---+---+---+\n",
       "| 7 |   |   | 9 |   |   |   |   |   |\n",
       "+---+---+---+---+---+---+---+---+---+\n",
       "| 9 |   |   |   |   |   |   |   |   |\n",
       "+---+---+---+---+---+---+---+---+---+\n",
       "|   |   |   |   |   |   |   |   | 9 |\n",
       "+---+---+---+---+---+---+---+---+---+\n",
       "|   |   |   |   |   |   |   |   |   |\n",
       "+---+---+---+---+---+---+---+---+---+\n",
       "|   |   |   |   |   |   |   |   |   |\n",
       "+---+---+---+---+---+---+---+---+---+\n",
       "|   |   |   |   |   |   |   |   |   |\n",
       "+---+---+---+---+---+---+---+---+---+\n",
       "|   |   |   |   |   |   |   |   |   |\n",
       "+---+---+---+---+---+---+---+---+---+\n",
       "|   |   |   |   |   |   |   |   |   |\n",
       "+---+---+---+---+---+---+---+---+---+\n",
       "|   |   |   |   |   |   |   |   |   |\n",
       "+---+---+---+---+---+---+---+---+---+"
      ]
     },
     "execution_count": 24,
     "metadata": {},
     "output_type": "execute_result"
    }
   ],
   "source": [
    "(sudoku\n",
    " .set_digit(2, 8, 9)\n",
    " .set_digit(1, 0, 9)\n",
    " .set_digit(0, 3, 9))"
   ]
  },
  {
   "cell_type": "markdown",
   "metadata": {
    "slideshow": {
     "slide_type": "slide"
    }
   },
   "source": [
    "## Recommendation\n",
    "* make use of immutable data structures like `@dataclass(frozen=True)`, `frozendict`, `NamedTuple` and `pyrsistent.pmap`)\n",
    "* use mutable data structures in immutable ways (try the `toolz` library!)\n",
    "* keep functions pure and idempotent - use classes where configuration and state is required\n",
    "\n",
    "*Note*: \"functions\" with side effects and global variables = **procedures** (avoid...)"
   ]
  },
  {
   "cell_type": "markdown",
   "metadata": {
    "slideshow": {
     "slide_type": "slide"
    }
   },
   "source": [
    "## Example in Pandas"
   ]
  },
  {
   "cell_type": "code",
   "execution_count": 25,
   "metadata": {
    "slideshow": {
     "slide_type": "fragment"
    }
   },
   "outputs": [
    {
     "data": {
      "text/html": [
       "<div>\n",
       "<style scoped>\n",
       "    .dataframe tbody tr th:only-of-type {\n",
       "        vertical-align: middle;\n",
       "    }\n",
       "\n",
       "    .dataframe tbody tr th {\n",
       "        vertical-align: top;\n",
       "    }\n",
       "\n",
       "    .dataframe thead th {\n",
       "        text-align: right;\n",
       "    }\n",
       "</style>\n",
       "<table border=\"1\" class=\"dataframe\">\n",
       "  <thead>\n",
       "    <tr style=\"text-align: right;\">\n",
       "      <th></th>\n",
       "      <th>a</th>\n",
       "      <th>b</th>\n",
       "      <th>c</th>\n",
       "    </tr>\n",
       "  </thead>\n",
       "  <tbody>\n",
       "    <tr>\n",
       "      <th>0</th>\n",
       "      <td>0.040618</td>\n",
       "      <td>0.585444</td>\n",
       "      <td>0.356573</td>\n",
       "    </tr>\n",
       "    <tr>\n",
       "      <th>1</th>\n",
       "      <td>0.803016</td>\n",
       "      <td>0.762437</td>\n",
       "      <td>0.894453</td>\n",
       "    </tr>\n",
       "    <tr>\n",
       "      <th>2</th>\n",
       "      <td>0.213839</td>\n",
       "      <td>0.945764</td>\n",
       "      <td>0.239017</td>\n",
       "    </tr>\n",
       "    <tr>\n",
       "      <th>3</th>\n",
       "      <td>0.258520</td>\n",
       "      <td>0.915763</td>\n",
       "      <td>0.000896</td>\n",
       "    </tr>\n",
       "    <tr>\n",
       "      <th>4</th>\n",
       "      <td>0.638604</td>\n",
       "      <td>0.504797</td>\n",
       "      <td>0.563874</td>\n",
       "    </tr>\n",
       "  </tbody>\n",
       "</table>\n",
       "</div>"
      ],
      "text/plain": [
       "          a         b         c\n",
       "0  0.040618  0.585444  0.356573\n",
       "1  0.803016  0.762437  0.894453\n",
       "2  0.213839  0.945764  0.239017\n",
       "3  0.258520  0.915763  0.000896\n",
       "4  0.638604  0.504797  0.563874"
      ]
     },
     "execution_count": 25,
     "metadata": {},
     "output_type": "execute_result"
    }
   ],
   "source": [
    "import pandas as pd\n",
    "\n",
    "df = pd.DataFrame(np.random.random((5,3)), columns=list('abc'))\n",
    "df"
   ]
  },
  {
   "cell_type": "code",
   "execution_count": 26,
   "metadata": {
    "slideshow": {
     "slide_type": "fragment"
    }
   },
   "outputs": [
    {
     "data": {
      "text/html": [
       "<div>\n",
       "<style scoped>\n",
       "    .dataframe tbody tr th:only-of-type {\n",
       "        vertical-align: middle;\n",
       "    }\n",
       "\n",
       "    .dataframe tbody tr th {\n",
       "        vertical-align: top;\n",
       "    }\n",
       "\n",
       "    .dataframe thead th {\n",
       "        text-align: right;\n",
       "    }\n",
       "</style>\n",
       "<table border=\"1\" class=\"dataframe\">\n",
       "  <thead>\n",
       "    <tr style=\"text-align: right;\">\n",
       "      <th></th>\n",
       "      <th>a</th>\n",
       "      <th>b</th>\n",
       "      <th>c</th>\n",
       "      <th>sum</th>\n",
       "      <th>a_percent</th>\n",
       "    </tr>\n",
       "  </thead>\n",
       "  <tbody>\n",
       "    <tr>\n",
       "      <th>0</th>\n",
       "      <td>0.040618</td>\n",
       "      <td>0.585444</td>\n",
       "      <td>0.356573</td>\n",
       "      <td>0.982635</td>\n",
       "      <td>0.041335</td>\n",
       "    </tr>\n",
       "    <tr>\n",
       "      <th>2</th>\n",
       "      <td>0.213839</td>\n",
       "      <td>0.945764</td>\n",
       "      <td>0.239017</td>\n",
       "      <td>1.398619</td>\n",
       "      <td>0.152893</td>\n",
       "    </tr>\n",
       "    <tr>\n",
       "      <th>4</th>\n",
       "      <td>0.638604</td>\n",
       "      <td>0.504797</td>\n",
       "      <td>0.563874</td>\n",
       "      <td>1.707275</td>\n",
       "      <td>0.374049</td>\n",
       "    </tr>\n",
       "  </tbody>\n",
       "</table>\n",
       "</div>"
      ],
      "text/plain": [
       "          a         b         c       sum  a_percent\n",
       "0  0.040618  0.585444  0.356573  0.982635   0.041335\n",
       "2  0.213839  0.945764  0.239017  1.398619   0.152893\n",
       "4  0.638604  0.504797  0.563874  1.707275   0.374049"
      ]
     },
     "execution_count": 26,
     "metadata": {},
     "output_type": "execute_result"
    }
   ],
   "source": [
    "(df\n",
    " .assign(sum=lambda df: df.sum(axis=1))\n",
    " .assign(a_percent=lambda df: df['a'] / df['sum'])\n",
    " .drop(index=[1,3]))"
   ]
  },
  {
   "cell_type": "code",
   "execution_count": 27,
   "metadata": {
    "slideshow": {
     "slide_type": "fragment"
    }
   },
   "outputs": [
    {
     "data": {
      "text/html": [
       "<div>\n",
       "<style scoped>\n",
       "    .dataframe tbody tr th:only-of-type {\n",
       "        vertical-align: middle;\n",
       "    }\n",
       "\n",
       "    .dataframe tbody tr th {\n",
       "        vertical-align: top;\n",
       "    }\n",
       "\n",
       "    .dataframe thead th {\n",
       "        text-align: right;\n",
       "    }\n",
       "</style>\n",
       "<table border=\"1\" class=\"dataframe\">\n",
       "  <thead>\n",
       "    <tr style=\"text-align: right;\">\n",
       "      <th></th>\n",
       "      <th>a</th>\n",
       "      <th>b</th>\n",
       "      <th>c</th>\n",
       "    </tr>\n",
       "  </thead>\n",
       "  <tbody>\n",
       "    <tr>\n",
       "      <th>0</th>\n",
       "      <td>0.040618</td>\n",
       "      <td>0.585444</td>\n",
       "      <td>0.356573</td>\n",
       "    </tr>\n",
       "    <tr>\n",
       "      <th>1</th>\n",
       "      <td>0.803016</td>\n",
       "      <td>0.762437</td>\n",
       "      <td>0.894453</td>\n",
       "    </tr>\n",
       "    <tr>\n",
       "      <th>2</th>\n",
       "      <td>0.213839</td>\n",
       "      <td>0.945764</td>\n",
       "      <td>0.239017</td>\n",
       "    </tr>\n",
       "    <tr>\n",
       "      <th>3</th>\n",
       "      <td>0.258520</td>\n",
       "      <td>0.915763</td>\n",
       "      <td>0.000896</td>\n",
       "    </tr>\n",
       "    <tr>\n",
       "      <th>4</th>\n",
       "      <td>0.638604</td>\n",
       "      <td>0.504797</td>\n",
       "      <td>0.563874</td>\n",
       "    </tr>\n",
       "  </tbody>\n",
       "</table>\n",
       "</div>"
      ],
      "text/plain": [
       "          a         b         c\n",
       "0  0.040618  0.585444  0.356573\n",
       "1  0.803016  0.762437  0.894453\n",
       "2  0.213839  0.945764  0.239017\n",
       "3  0.258520  0.915763  0.000896\n",
       "4  0.638604  0.504797  0.563874"
      ]
     },
     "execution_count": 27,
     "metadata": {},
     "output_type": "execute_result"
    }
   ],
   "source": [
    "df"
   ]
  },
  {
   "cell_type": "markdown",
   "metadata": {
    "slideshow": {
     "slide_type": "fragment"
    }
   },
   "source": [
    "* cleaner Jupyter notebooks (execution order...)\n",
    "* better reusability\n",
    "* close to production-ready"
   ]
  },
  {
   "cell_type": "markdown",
   "metadata": {
    "slideshow": {
     "slide_type": "slide"
    }
   },
   "source": [
    "# Multiple implementations: polymorphism vs. function composition\n",
    "Example: Different Sudoku solvers"
   ]
  },
  {
   "cell_type": "markdown",
   "metadata": {
    "slideshow": {
     "slide_type": "fragment"
    }
   },
   "source": [
    "* Deterministic (mask, fill unambiguous, repeat) - insufficient"
   ]
  },
  {
   "cell_type": "markdown",
   "metadata": {
    "slideshow": {
     "slide_type": "fragment"
    }
   },
   "source": [
    "* Random (mask, fill random, repeat) - prohibitively slow"
   ]
  },
  {
   "cell_type": "markdown",
   "metadata": {
    "slideshow": {
     "slide_type": "fragment"
    }
   },
   "source": [
    "* Combined (deterministic as much as possible, random step, repeat)"
   ]
  },
  {
   "cell_type": "markdown",
   "metadata": {
    "slideshow": {
     "slide_type": "slide"
    }
   },
   "source": [
    "## OO - Solver class hierarchy"
   ]
  },
  {
   "cell_type": "markdown",
   "metadata": {
    "slideshow": {
     "slide_type": "fragment"
    }
   },
   "source": [
    "<img src=\"./img/erm_solver.png\" style=\"max-height: 800px\"/>"
   ]
  },
  {
   "cell_type": "code",
   "execution_count": 28,
   "metadata": {
    "slideshow": {
     "slide_type": "slide"
    }
   },
   "outputs": [
    {
     "data": {
      "text/plain": [
       "+---+---+---+---+---+---+---+---+---+\n",
       "| 7 | 6 | 2 | 1 | 5 | 9 | 4 | 8 | 3 |\n",
       "+---+---+---+---+---+---+---+---+---+\n",
       "| 4 | 1 | 3 | 6 | 8 | 2 | 5 | 9 | 7 |\n",
       "+---+---+---+---+---+---+---+---+---+\n",
       "| 8 | 5 | 9 | 4 | 7 | 3 | 1 | 2 | 6 |\n",
       "+---+---+---+---+---+---+---+---+---+\n",
       "| 5 | 4 | 1 | 3 | 9 | 6 | 2 | 7 | 8 |\n",
       "+---+---+---+---+---+---+---+---+---+\n",
       "| 2 | 3 | 7 | 8 | 1 | 4 | 6 | 5 | 9 |\n",
       "+---+---+---+---+---+---+---+---+---+\n",
       "| 6 | 9 | 8 | 5 | 2 | 7 | 3 | 4 | 1 |\n",
       "+---+---+---+---+---+---+---+---+---+\n",
       "| 9 | 7 | 5 | 2 | 3 | 1 | 8 | 6 | 4 |\n",
       "+---+---+---+---+---+---+---+---+---+\n",
       "| 1 | 2 | 6 | 7 | 4 | 8 | 9 | 3 | 5 |\n",
       "+---+---+---+---+---+---+---+---+---+\n",
       "| 3 | 8 | 4 | 9 | 6 | 5 | 7 | 1 | 2 |\n",
       "+---+---+---+---+---+---+---+---+---+"
      ]
     },
     "execution_count": 28,
     "metadata": {},
     "output_type": "execute_result"
    }
   ],
   "source": [
    "from sudoku.oo.solver import *\n",
    "\n",
    "sudoku = Sudoku.from_string(raw_example)\n",
    "solver = DeterministicSolver(sudoku)\n",
    "solver.solve()\n",
    "\n",
    "sudoku"
   ]
  },
  {
   "cell_type": "markdown",
   "metadata": {
    "slideshow": {
     "slide_type": "fragment"
    }
   },
   "source": [
    "* Single-method classes seem excessive and cause boilerplate\n",
    "* Complicated design for simple functionality"
   ]
  },
  {
   "cell_type": "code",
   "execution_count": 29,
   "metadata": {
    "slideshow": {
     "slide_type": "fragment"
    }
   },
   "outputs": [
    {
     "name": "stdout",
     "output_type": "stream",
     "text": [
      "     123     297    3852 ./sudoku/oo/solver.py\r\n"
     ]
    }
   ],
   "source": [
    "!wc ./sudoku/oo/solver.py"
   ]
  },
  {
   "cell_type": "markdown",
   "metadata": {
    "slideshow": {
     "slide_type": "slide"
    }
   },
   "source": [
    "## FP - solving function composition"
   ]
  },
  {
   "cell_type": "markdown",
   "metadata": {
    "slideshow": {
     "slide_type": "fragment"
    }
   },
   "source": [
    "<img src=\"./img/fp_solve.png\" style=\"max-height: 600px;\"/>"
   ]
  },
  {
   "cell_type": "code",
   "execution_count": 30,
   "metadata": {
    "scrolled": true,
    "slideshow": {
     "slide_type": "slide"
    }
   },
   "outputs": [
    {
     "name": "stdout",
     "output_type": "stream",
     "text": [
      "+---+---+---+---+---+---+---+---+---+\n",
      "| 7 | 6 | 2 | 1 | 5 | 9 | 4 | 8 | 3 |\n",
      "+---+---+---+---+---+---+---+---+---+\n",
      "| 4 | 1 | 3 | 6 | 8 | 2 | 5 | 9 | 7 |\n",
      "+---+---+---+---+---+---+---+---+---+\n",
      "| 8 | 5 | 9 | 4 | 7 | 3 | 1 | 2 | 6 |\n",
      "+---+---+---+---+---+---+---+---+---+\n",
      "| 5 | 4 | 1 | 3 | 9 | 6 | 2 | 7 | 8 |\n",
      "+---+---+---+---+---+---+---+---+---+\n",
      "| 2 | 3 | 7 | 8 | 1 | 4 | 6 | 5 | 9 |\n",
      "+---+---+---+---+---+---+---+---+---+\n",
      "| 6 | 9 | 8 | 5 | 2 | 7 | 3 | 4 | 1 |\n",
      "+---+---+---+---+---+---+---+---+---+\n",
      "| 9 | 7 | 5 | 2 | 3 | 1 | 8 | 6 | 4 |\n",
      "+---+---+---+---+---+---+---+---+---+\n",
      "| 1 | 2 | 6 | 7 | 4 | 8 | 9 | 3 | 5 |\n",
      "+---+---+---+---+---+---+---+---+---+\n",
      "| 3 | 8 | 4 | 9 | 6 | 5 | 7 | 1 | 2 |\n",
      "+---+---+---+---+---+---+---+---+---+\n"
     ]
    }
   ],
   "source": [
    "from sudoku.fp.solve import *\n",
    "from sudoku.fp.load import *\n",
    "\n",
    "solve_combined = partial(solve, step_function=combined_step)\n",
    "\n",
    "thread_last(raw_example, parse_raw, solve_combined, format_sudoku, print)"
   ]
  },
  {
   "cell_type": "markdown",
   "metadata": {
    "slideshow": {
     "slide_type": "fragment"
    }
   },
   "source": [
    "* very clear responsibilities per function\n",
    "* simple, pragmatic design\n",
    "* easy to introspect\n",
    "* much more concise (*and* no base module!)"
   ]
  },
  {
   "cell_type": "code",
   "execution_count": 31,
   "metadata": {
    "slideshow": {
     "slide_type": "fragment"
    }
   },
   "outputs": [
    {
     "name": "stdout",
     "output_type": "stream",
     "text": [
      "      98     289    2711 ./sudoku/fp/solve.py\r\n"
     ]
    }
   ],
   "source": [
    "!wc ./sudoku/fp/solve.py"
   ]
  },
  {
   "cell_type": "markdown",
   "metadata": {
    "slideshow": {
     "slide_type": "slide"
    }
   },
   "source": [
    "## Multi-paradigm solution"
   ]
  },
  {
   "cell_type": "code",
   "execution_count": 32,
   "metadata": {
    "slideshow": {
     "slide_type": "slide"
    }
   },
   "outputs": [],
   "source": [
    "from sudoku.fp import solve as _fp_solve\n",
    "from sudoku.mp.base import Sudoku\n",
    "\n",
    "\n",
    "def solve(sudoku: Sudoku, step_function: Callable, max_tries: int = 1):\n",
    "    if max_tries == 1:\n",
    "        solved_grid = _fp_solve.solve(sudoku.grid, step_function)\n",
    "    else:\n",
    "        solved_grid = _fp_solve.repeat_solve(sudoku.grid,\n",
    "                                             partial(_fp_solve.solve, step_function=step_function),\n",
    "                                             max_tries=max_tries)\n",
    "    return Sudoku(solved_grid)"
   ]
  },
  {
   "cell_type": "markdown",
   "metadata": {
    "slideshow": {
     "slide_type": "fragment"
    }
   },
   "source": [
    "* simplicity and clarity of FP\n",
    "* takes and returns high-context Sudoku objects"
   ]
  },
  {
   "cell_type": "markdown",
   "metadata": {
    "slideshow": {
     "slide_type": "slide"
    }
   },
   "source": [
    "Or, with more context:"
   ]
  },
  {
   "cell_type": "code",
   "execution_count": 33,
   "metadata": {
    "slideshow": {
     "slide_type": "-"
    }
   },
   "outputs": [],
   "source": [
    "@dataclass(frozen=True)\n",
    "class Solver:\n",
    "    step_function: Callable\n",
    "    max_tries: int = 1\n",
    "\n",
    "    def __call__(self, sudoku: Sudoku):\n",
    "        return solve(sudoku, self.step_function, self.max_tries)"
   ]
  },
  {
   "cell_type": "markdown",
   "metadata": {},
   "source": [
    "*Note*: This can equally be achieved with `functools.partial` or `toolz.curry`"
   ]
  },
  {
   "cell_type": "code",
   "execution_count": 34,
   "metadata": {
    "slideshow": {
     "slide_type": "fragment"
    }
   },
   "outputs": [
    {
     "data": {
      "text/plain": [
       "+---+---+---+---+---+---+---+---+---+\n",
       "| 7 | 6 | 2 | 1 | 5 | 9 | 4 | 8 | 3 |\n",
       "+---+---+---+---+---+---+---+---+---+\n",
       "| 4 | 1 | 3 | 6 | 8 | 2 | 5 | 9 | 7 |\n",
       "+---+---+---+---+---+---+---+---+---+\n",
       "| 8 | 5 | 9 | 4 | 7 | 3 | 1 | 2 | 6 |\n",
       "+---+---+---+---+---+---+---+---+---+\n",
       "| 5 | 4 | 1 | 3 | 9 | 6 | 2 | 7 | 8 |\n",
       "+---+---+---+---+---+---+---+---+---+\n",
       "| 2 | 3 | 7 | 8 | 1 | 4 | 6 | 5 | 9 |\n",
       "+---+---+---+---+---+---+---+---+---+\n",
       "| 6 | 9 | 8 | 5 | 2 | 7 | 3 | 4 | 1 |\n",
       "+---+---+---+---+---+---+---+---+---+\n",
       "| 9 | 7 | 5 | 2 | 3 | 1 | 8 | 6 | 4 |\n",
       "+---+---+---+---+---+---+---+---+---+\n",
       "| 1 | 2 | 6 | 7 | 4 | 8 | 9 | 3 | 5 |\n",
       "+---+---+---+---+---+---+---+---+---+\n",
       "| 3 | 8 | 4 | 9 | 6 | 5 | 7 | 1 | 2 |\n",
       "+---+---+---+---+---+---+---+---+---+"
      ]
     },
     "execution_count": 34,
     "metadata": {},
     "output_type": "execute_result"
    }
   ],
   "source": [
    "thread_last(raw_example, \n",
    "            Sudoku.from_string, \n",
    "            Solver(combined_step, max_tries=100))"
   ]
  },
  {
   "cell_type": "markdown",
   "metadata": {
    "slideshow": {
     "slide_type": "slide"
    }
   },
   "source": [
    "# Key Takeaways"
   ]
  },
  {
   "cell_type": "markdown",
   "metadata": {
    "slideshow": {
     "slide_type": "slide"
    }
   },
   "source": [
    "## Object-orientation\n",
    "* \"top-down\" design\n",
    "* larger, topical structures\n",
    "* functionality and data intertwined\n",
    "* explicit, high-context\n",
    "\n",
    "leads to:\n",
    "\n",
    "* intuitive use cases\n",
    "* high explorability"
   ]
  },
  {
   "cell_type": "markdown",
   "metadata": {
    "slideshow": {
     "slide_type": "slide"
    }
   },
   "source": [
    "## Functional programming\n",
    "* \"bottom-up\" design\n",
    "* simplistic thinking\n",
    "* small chunks of reusable logic, separate from data\n",
    "* high isolation, low context\n",
    "\n",
    "leads to\n",
    "* high reusability\n",
    "* tidy, concise code\n",
    "* flexible use cases"
   ]
  },
  {
   "cell_type": "markdown",
   "metadata": {
    "slideshow": {
     "slide_type": "slide"
    }
   },
   "source": [
    "## Multi-paradigm programming\n",
    "*pick & mix* of both worlds:\n",
    "* pure functions in mutable context\n",
    "    * brings the simplicity and elegance of FP into OO\n",
    "    * make your code explorable and easy to understand\n",
    "    * *remember*: no side effects, no problem!\n",
    "* mutable data in immutable context\n",
    "    * use your favourite OO libaries in concise FP code\n",
    "    * *remember*: copy-and-modify mutable data structures!\n",
    "\n",
    "leads to (ideally) - best of both worlds:\n",
    "* intuitive **and** flexible use cases\n",
    "* high explorability **and** reusability"
   ]
  },
  {
   "cell_type": "markdown",
   "metadata": {
    "slideshow": {
     "slide_type": "slide"
    }
   },
   "source": [
    "## My preferred Approach\n",
    "* iterate with a REPL\n",
    "* use immutable data types and pure functions where possible\n",
    "* create classes where either:\n",
    "    * required due to syntax or library\n",
    "    * high-context use cases are required"
   ]
  },
  {
   "cell_type": "markdown",
   "metadata": {
    "slideshow": {
     "slide_type": "slide"
    }
   },
   "source": [
    "# Thank you for your attention!\n",
    "\n",
    "# References & Further Reading\n",
    "Full notebook and code available at https://github.com/eliasmistler/europython2020-multi-paradigm-sudoku\n",
    "\n",
    "* [MP Patterns](https://www.researchgate.net/publication/2740355_Multiparadigm_Patterns_of_Thought_and_Design)\n",
    "* [OO Patterns](https://www.oodesign.com/)\n",
    "* [OO Antipatterns](https://wiki.c2.com/?ClassicOoAntiPatterns)\n",
    "* [FP Patterns](https://patternsinfp.wordpress.com/)\n",
    "* [FP Basics](https://www.freecodecamp.org/news/an-introduction-to-the-basic-principles-of-functional-programming-a2c2a15c84/)\n",
    "* [OO Basics](https://introprogramming.info/english-intro-csharp-book/read-online/chapter-20-object-oriented-programming-principles/)\n",
    "* [`toolz` library](https://toolz.readthedocs.io/en/latest/)\n",
    "* [Python dataclasses](https://docs.python.org/3/library/dataclasses.html)\n",
    "* [`schema` library](https://pypi.org/project/schema/)\n",
    "* [OO vs FP](https://www.codenewbie.org/blogs/object-oriented-programming-vs-functional-programming)\n",
    "* [OO imrpoved by non-member functions](https://www.drdobbs.com/cpp/how-non-member-functions-improve-encapsu/184401197)\n",
    "* [OpenSudoku](https://opensudoku.moire.org/)\n",
    "* [class or callable?](https://treyhunner.com/2019/04/is-it-a-class-or-a-function-its-a-callable/)\n",
    "* [Python decorators](https://blog.miguelgrinberg.com/post/the-ultimate-guide-to-python-decorators-part-i-function-registration) and [a primer](https://realpython.com/primer-on-python-decorators/)\n",
    "* [Python dependency injection](https://medium.com/@shivama205/dependency-injection-python-cb2b5f336dce)"
   ]
  }
 ],
 "metadata": {
  "celltoolbar": "Slideshow",
  "kernelspec": {
   "display_name": "Python 3",
   "language": "python",
   "name": "python3"
  },
  "language_info": {
   "codemirror_mode": {
    "name": "ipython",
    "version": 3
   },
   "file_extension": ".py",
   "mimetype": "text/x-python",
   "name": "python",
   "nbconvert_exporter": "python",
   "pygments_lexer": "ipython3",
   "version": "3.7.4"
  },
  "rise": {
   "footer": "<h3>EuroPython 2020, Elias Mistler</h3>",
   "header": "<h3>Multi-paradigm programming</h3>",
   "theme": "simple"
  },
  "toc-autonumbering": true,
  "toc-showtags": false
 },
 "nbformat": 4,
 "nbformat_minor": 4
}
